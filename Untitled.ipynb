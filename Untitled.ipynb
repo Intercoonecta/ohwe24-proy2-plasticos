{
 "cells": [
  {
   "cell_type": "code",
   "execution_count": null,
   "id": "7ad5eb41-dbeb-43e2-b29d-012271a749e4",
   "metadata": {},
   "outputs": [
    {
     "name": "stdout",
     "output_type": "stream",
     "text": [
      "username:"
     ]
    }
   ],
   "source": [
    "import copernicusmarine\n",
    "\n",
    "copernicusmarine.subset(\n",
    "  dataset_id=\"cmems_mod_glo_bgc_my_0.083deg-lmtl-Fphy_PT1D-i\",\n",
    "  dataset_version=\"202411\",\n",
    "  variables=[\"U\", \"V\", \"T\", \"pelagic_layer_depth\"],\n",
    "  minimum_longitude=-75.088721,\n",
    "  maximum_longitude=-71.71425,\n",
    "  minimum_latitude=-43.891055,\n",
    "  maximum_latitude=-41.05678,\n",
    "  start_datetime=\"2022-01-01T00:00:00\",\n",
    "  end_datetime=\"2023-01-01T00:00:00\",\n",
    "  minimum_depth=1,\n",
    "  maximum_depth=3,\n",
    "  force_download=True,\n",
    "  subset_method=\"strict\",\n",
    "  disable_progress_bar=True,\n",
    ")\n"
   ]
  },
  {
   "cell_type": "code",
   "execution_count": null,
   "id": "12823e71-6cfd-405a-9775-b5cacc22c7b6",
   "metadata": {},
   "outputs": [],
   "source": []
  }
 ],
 "metadata": {
  "kernelspec": {
   "display_name": "Python 3 (ipykernel)",
   "language": "python",
   "name": "python3"
  },
  "language_info": {
   "codemirror_mode": {
    "name": "ipython",
    "version": 3
   },
   "file_extension": ".py",
   "mimetype": "text/x-python",
   "name": "python",
   "nbconvert_exporter": "python",
   "pygments_lexer": "ipython3",
   "version": "3.12.7"
  },
  "widgets": {
   "application/vnd.jupyter.widget-state+json": {
    "state": {},
    "version_major": 2,
    "version_minor": 0
   }
  }
 },
 "nbformat": 4,
 "nbformat_minor": 5
}
